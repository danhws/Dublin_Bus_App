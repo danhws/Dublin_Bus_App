{
 "cells": [
  {
   "cell_type": "code",
   "execution_count": 1,
   "id": "e4407ba4",
   "metadata": {},
   "outputs": [],
   "source": [
    "# import packages\n",
    "import pandas as pd\n",
    "import os\n",
    "import sys\n",
    "import mysql.connector\n",
    "import numpy as np\n",
    "\n",
    "from sklearn.linear_model import LinearRegression\n",
    "from sklearn.model_selection import train_test_split\n",
    "from sklearn import metrics\n",
    "from sklearn.model_selection import cross_validate\n",
    "from sklearn.model_selection import cross_val_score \n",
    "from sklearn.tree import DecisionTreeClassifier\n",
    "from sklearn.metrics import accuracy_score\n",
    "from sklearn.ensemble import RandomForestRegressor\n",
    "\n",
    "import joblib\n",
    "from joblib import load, dump\n",
    "import pickle\n",
    "import json"
   ]
  },
  {
   "cell_type": "markdown",
   "id": "965b98d0",
   "metadata": {},
   "source": [
    "# Import Data and Investigate"
   ]
  },
  {
   "cell_type": "code",
   "execution_count": 2,
   "id": "b6c0dd4f",
   "metadata": {},
   "outputs": [],
   "source": [
    "# import data as txt file\n",
    "read_vehicles = pd.read_csv ('/Users/danhowes1/Desktop/UCD/Research_Project/tmp/data/rt_vehicles_DB_2018.txt', delimiter = ';')\n"
   ]
  },
  {
   "cell_type": "code",
   "execution_count": 3,
   "id": "dfb24e47",
   "metadata": {},
   "outputs": [],
   "source": [
    "# save data as csv file\n",
    "read_vehicles.to_csv ('/Users/danhowes1/Desktop/UCD/Research_Project/rt_vehicles_DB_2018.csv', index=None)"
   ]
  },
  {
   "cell_type": "code",
   "execution_count": 4,
   "id": "95d2b75e",
   "metadata": {},
   "outputs": [],
   "source": [
    "# import saved csv file\n",
    "df_vehicles = pd.read_csv('/Users/danhowes1/Desktop/UCD/Research_Project/rt_vehicles_DB_2018.csv')"
   ]
  },
  {
   "cell_type": "code",
   "execution_count": 5,
   "id": "1d0c6e7f",
   "metadata": {},
   "outputs": [
    {
     "data": {
      "text/plain": [
       "(272622, 7)"
      ]
     },
     "execution_count": 5,
     "metadata": {},
     "output_type": "execute_result"
    }
   ],
   "source": [
    "# Check how many rows and columns this dataframe has\n",
    "df_vehicles.shape"
   ]
  },
  {
   "cell_type": "code",
   "execution_count": 6,
   "id": "0b17ef69",
   "metadata": {
    "scrolled": false
   },
   "outputs": [
    {
     "data": {
      "text/html": [
       "<div>\n",
       "<style scoped>\n",
       "    .dataframe tbody tr th:only-of-type {\n",
       "        vertical-align: middle;\n",
       "    }\n",
       "\n",
       "    .dataframe tbody tr th {\n",
       "        vertical-align: top;\n",
       "    }\n",
       "\n",
       "    .dataframe thead th {\n",
       "        text-align: right;\n",
       "    }\n",
       "</style>\n",
       "<table border=\"1\" class=\"dataframe\">\n",
       "  <thead>\n",
       "    <tr style=\"text-align: right;\">\n",
       "      <th></th>\n",
       "      <th>DATASOURCE</th>\n",
       "      <th>DAYOFSERVICE</th>\n",
       "      <th>VEHICLEID</th>\n",
       "      <th>DISTANCE</th>\n",
       "      <th>MINUTES</th>\n",
       "      <th>LASTUPDATE</th>\n",
       "      <th>NOTE</th>\n",
       "    </tr>\n",
       "  </thead>\n",
       "  <tbody>\n",
       "    <tr>\n",
       "      <th>0</th>\n",
       "      <td>DB</td>\n",
       "      <td>23-NOV-18 00:00:00</td>\n",
       "      <td>3303848</td>\n",
       "      <td>286166</td>\n",
       "      <td>58849</td>\n",
       "      <td>04-DEC-18 08:03:09</td>\n",
       "      <td>NaN</td>\n",
       "    </tr>\n",
       "    <tr>\n",
       "      <th>1</th>\n",
       "      <td>DB</td>\n",
       "      <td>23-NOV-18 00:00:00</td>\n",
       "      <td>3303847</td>\n",
       "      <td>259545</td>\n",
       "      <td>56828</td>\n",
       "      <td>04-DEC-18 08:03:09</td>\n",
       "      <td>NaN</td>\n",
       "    </tr>\n",
       "    <tr>\n",
       "      <th>2</th>\n",
       "      <td>DB</td>\n",
       "      <td>28-FEB-18 00:00:00</td>\n",
       "      <td>2868329</td>\n",
       "      <td>103096</td>\n",
       "      <td>40967</td>\n",
       "      <td>08-MAR-18 10:35:59</td>\n",
       "      <td>NaN</td>\n",
       "    </tr>\n",
       "    <tr>\n",
       "      <th>3</th>\n",
       "      <td>DB</td>\n",
       "      <td>28-FEB-18 00:00:00</td>\n",
       "      <td>2868330</td>\n",
       "      <td>147277</td>\n",
       "      <td>43599</td>\n",
       "      <td>08-MAR-18 10:35:59</td>\n",
       "      <td>NaN</td>\n",
       "    </tr>\n",
       "    <tr>\n",
       "      <th>4</th>\n",
       "      <td>DB</td>\n",
       "      <td>28-FEB-18 00:00:00</td>\n",
       "      <td>2868331</td>\n",
       "      <td>224682</td>\n",
       "      <td>40447</td>\n",
       "      <td>08-MAR-18 10:35:59</td>\n",
       "      <td>NaN</td>\n",
       "    </tr>\n",
       "    <tr>\n",
       "      <th>5</th>\n",
       "      <td>DB</td>\n",
       "      <td>28-FEB-18 00:00:00</td>\n",
       "      <td>2868332</td>\n",
       "      <td>19499</td>\n",
       "      <td>6289</td>\n",
       "      <td>08-MAR-18 10:35:59</td>\n",
       "      <td>NaN</td>\n",
       "    </tr>\n",
       "    <tr>\n",
       "      <th>6</th>\n",
       "      <td>DB</td>\n",
       "      <td>28-FEB-18 00:00:00</td>\n",
       "      <td>2868333</td>\n",
       "      <td>133014</td>\n",
       "      <td>43647</td>\n",
       "      <td>08-MAR-18 10:35:59</td>\n",
       "      <td>NaN</td>\n",
       "    </tr>\n",
       "    <tr>\n",
       "      <th>7</th>\n",
       "      <td>DB</td>\n",
       "      <td>28-FEB-18 00:00:00</td>\n",
       "      <td>2868334</td>\n",
       "      <td>168964</td>\n",
       "      <td>47167</td>\n",
       "      <td>08-MAR-18 10:35:59</td>\n",
       "      <td>NaN</td>\n",
       "    </tr>\n",
       "    <tr>\n",
       "      <th>8</th>\n",
       "      <td>DB</td>\n",
       "      <td>28-FEB-18 00:00:00</td>\n",
       "      <td>2868335</td>\n",
       "      <td>360842</td>\n",
       "      <td>55477</td>\n",
       "      <td>08-MAR-18 10:35:59</td>\n",
       "      <td>NaN</td>\n",
       "    </tr>\n",
       "    <tr>\n",
       "      <th>9</th>\n",
       "      <td>DB</td>\n",
       "      <td>28-FEB-18 00:00:00</td>\n",
       "      <td>2868336</td>\n",
       "      <td>139959</td>\n",
       "      <td>39599</td>\n",
       "      <td>08-MAR-18 10:35:59</td>\n",
       "      <td>NaN</td>\n",
       "    </tr>\n",
       "  </tbody>\n",
       "</table>\n",
       "</div>"
      ],
      "text/plain": [
       "  DATASOURCE        DAYOFSERVICE  VEHICLEID  DISTANCE  MINUTES  \\\n",
       "0         DB  23-NOV-18 00:00:00    3303848    286166    58849   \n",
       "1         DB  23-NOV-18 00:00:00    3303847    259545    56828   \n",
       "2         DB  28-FEB-18 00:00:00    2868329    103096    40967   \n",
       "3         DB  28-FEB-18 00:00:00    2868330    147277    43599   \n",
       "4         DB  28-FEB-18 00:00:00    2868331    224682    40447   \n",
       "5         DB  28-FEB-18 00:00:00    2868332     19499     6289   \n",
       "6         DB  28-FEB-18 00:00:00    2868333    133014    43647   \n",
       "7         DB  28-FEB-18 00:00:00    2868334    168964    47167   \n",
       "8         DB  28-FEB-18 00:00:00    2868335    360842    55477   \n",
       "9         DB  28-FEB-18 00:00:00    2868336    139959    39599   \n",
       "\n",
       "           LASTUPDATE  NOTE  \n",
       "0  04-DEC-18 08:03:09   NaN  \n",
       "1  04-DEC-18 08:03:09   NaN  \n",
       "2  08-MAR-18 10:35:59   NaN  \n",
       "3  08-MAR-18 10:35:59   NaN  \n",
       "4  08-MAR-18 10:35:59   NaN  \n",
       "5  08-MAR-18 10:35:59   NaN  \n",
       "6  08-MAR-18 10:35:59   NaN  \n",
       "7  08-MAR-18 10:35:59   NaN  \n",
       "8  08-MAR-18 10:35:59   NaN  \n",
       "9  08-MAR-18 10:35:59   NaN  "
      ]
     },
     "execution_count": 6,
     "metadata": {},
     "output_type": "execute_result"
    }
   ],
   "source": [
    "# check first 10 rows of data\n",
    "df_vehicles.head(10)"
   ]
  },
  {
   "cell_type": "code",
   "execution_count": 7,
   "id": "c65a14a0",
   "metadata": {},
   "outputs": [
    {
     "data": {
      "text/plain": [
       "DATASOURCE       object\n",
       "DAYOFSERVICE     object\n",
       "VEHICLEID         int64\n",
       "DISTANCE          int64\n",
       "MINUTES           int64\n",
       "LASTUPDATE       object\n",
       "NOTE            float64\n",
       "dtype: object"
      ]
     },
     "execution_count": 7,
     "metadata": {},
     "output_type": "execute_result"
    }
   ],
   "source": [
    "#Now check type of each feature\n",
    "df_vehicles.dtypes"
   ]
  },
  {
   "cell_type": "markdown",
   "id": "2d326737",
   "metadata": {},
   "source": [
    "<b> - Look for duplicate rows and columns. Consider whether it makes sense to keep them or drop them. </b>"
   ]
  },
  {
   "cell_type": "code",
   "execution_count": 8,
   "id": "bcbc328e",
   "metadata": {},
   "outputs": [
    {
     "name": "stdout",
     "output_type": "stream",
     "text": [
      "Number of duplicate (excluding first) rows in the table is:  0\n",
      "Number of duplicate rows (including first) in the table is: 0\n"
     ]
    }
   ],
   "source": [
    "#Print the number of duplicates, without the original rows that were duplicated\n",
    "print('Number of duplicate (excluding first) rows in the table is: ', df_vehicles.duplicated().sum())\n",
    "\n",
    "# Check for duplicate rows. \n",
    "# Use \"keep=False\" to mark all duplicates as true, including the original rows that were duplicated.\n",
    "print('Number of duplicate rows (including first) in the table is:', df_vehicles[df_vehicles.duplicated(keep=False)].shape[0])\n"
   ]
  },
  {
   "cell_type": "code",
   "execution_count": 9,
   "id": "943b3e7a",
   "metadata": {},
   "outputs": [
    {
     "data": {
      "text/plain": [
       "DATASOURCE           0\n",
       "DAYOFSERVICE         0\n",
       "VEHICLEID            0\n",
       "DISTANCE             0\n",
       "MINUTES              0\n",
       "LASTUPDATE           0\n",
       "NOTE            272622\n",
       "dtype: int64"
      ]
     },
     "execution_count": 9,
     "metadata": {},
     "output_type": "execute_result"
    }
   ],
   "source": [
    "#check number of empty rows per feature\n",
    "df_vehicles.isnull().sum()"
   ]
  },
  {
   "cell_type": "code",
   "execution_count": 10,
   "id": "1f8e496d",
   "metadata": {},
   "outputs": [
    {
     "data": {
      "text/plain": [
       "DATASOURCE           1\n",
       "DAYOFSERVICE       360\n",
       "VEHICLEID         1152\n",
       "DISTANCE        170498\n",
       "MINUTES          57523\n",
       "LASTUPDATE         360\n",
       "NOTE                 0\n",
       "dtype: int64"
      ]
     },
     "execution_count": 10,
     "metadata": {},
     "output_type": "execute_result"
    }
   ],
   "source": [
    "#check cardinality of each feature\n",
    "df_vehicles.nunique()"
   ]
  },
  {
   "cell_type": "markdown",
   "id": "fb898d56",
   "metadata": {},
   "source": [
    "# Cleaning Dataset"
   ]
  },
  {
   "cell_type": "markdown",
   "id": "afa75506",
   "metadata": {},
   "source": [
    "<b> - Drop constant, null and redundant columns </b>"
   ]
  },
  {
   "cell_type": "markdown",
   "id": "c33ff293",
   "metadata": {},
   "source": [
    "- LASTUPDATE is irrelevant so we can drop that feature"
   ]
  },
  {
   "cell_type": "code",
   "execution_count": 11,
   "id": "99fa353b",
   "metadata": {},
   "outputs": [
    {
     "name": "stderr",
     "output_type": "stream",
     "text": [
      "/var/folders/bn/6x11zktd6n14vfwyb0jymgt00000gp/T/ipykernel_42101/4120186482.py:4: FutureWarning: In a future version of pandas all arguments of DataFrame.drop except for the argument 'labels' will be keyword-only\n",
      "  df_vehicles = df_vehicles.drop(c, 1)\n"
     ]
    },
    {
     "data": {
      "text/html": [
       "<div>\n",
       "<style scoped>\n",
       "    .dataframe tbody tr th:only-of-type {\n",
       "        vertical-align: middle;\n",
       "    }\n",
       "\n",
       "    .dataframe tbody tr th {\n",
       "        vertical-align: top;\n",
       "    }\n",
       "\n",
       "    .dataframe thead th {\n",
       "        text-align: right;\n",
       "    }\n",
       "</style>\n",
       "<table border=\"1\" class=\"dataframe\">\n",
       "  <thead>\n",
       "    <tr style=\"text-align: right;\">\n",
       "      <th></th>\n",
       "      <th>DAYOFSERVICE</th>\n",
       "      <th>VEHICLEID</th>\n",
       "      <th>DISTANCE</th>\n",
       "      <th>MINUTES</th>\n",
       "    </tr>\n",
       "  </thead>\n",
       "  <tbody>\n",
       "    <tr>\n",
       "      <th>0</th>\n",
       "      <td>23-NOV-18 00:00:00</td>\n",
       "      <td>3303848</td>\n",
       "      <td>286166</td>\n",
       "      <td>58849</td>\n",
       "    </tr>\n",
       "    <tr>\n",
       "      <th>1</th>\n",
       "      <td>23-NOV-18 00:00:00</td>\n",
       "      <td>3303847</td>\n",
       "      <td>259545</td>\n",
       "      <td>56828</td>\n",
       "    </tr>\n",
       "    <tr>\n",
       "      <th>2</th>\n",
       "      <td>28-FEB-18 00:00:00</td>\n",
       "      <td>2868329</td>\n",
       "      <td>103096</td>\n",
       "      <td>40967</td>\n",
       "    </tr>\n",
       "    <tr>\n",
       "      <th>3</th>\n",
       "      <td>28-FEB-18 00:00:00</td>\n",
       "      <td>2868330</td>\n",
       "      <td>147277</td>\n",
       "      <td>43599</td>\n",
       "    </tr>\n",
       "    <tr>\n",
       "      <th>4</th>\n",
       "      <td>28-FEB-18 00:00:00</td>\n",
       "      <td>2868331</td>\n",
       "      <td>224682</td>\n",
       "      <td>40447</td>\n",
       "    </tr>\n",
       "    <tr>\n",
       "      <th>5</th>\n",
       "      <td>28-FEB-18 00:00:00</td>\n",
       "      <td>2868332</td>\n",
       "      <td>19499</td>\n",
       "      <td>6289</td>\n",
       "    </tr>\n",
       "    <tr>\n",
       "      <th>6</th>\n",
       "      <td>28-FEB-18 00:00:00</td>\n",
       "      <td>2868333</td>\n",
       "      <td>133014</td>\n",
       "      <td>43647</td>\n",
       "    </tr>\n",
       "    <tr>\n",
       "      <th>7</th>\n",
       "      <td>28-FEB-18 00:00:00</td>\n",
       "      <td>2868334</td>\n",
       "      <td>168964</td>\n",
       "      <td>47167</td>\n",
       "    </tr>\n",
       "    <tr>\n",
       "      <th>8</th>\n",
       "      <td>28-FEB-18 00:00:00</td>\n",
       "      <td>2868335</td>\n",
       "      <td>360842</td>\n",
       "      <td>55477</td>\n",
       "    </tr>\n",
       "    <tr>\n",
       "      <th>9</th>\n",
       "      <td>28-FEB-18 00:00:00</td>\n",
       "      <td>2868336</td>\n",
       "      <td>139959</td>\n",
       "      <td>39599</td>\n",
       "    </tr>\n",
       "  </tbody>\n",
       "</table>\n",
       "</div>"
      ],
      "text/plain": [
       "         DAYOFSERVICE  VEHICLEID  DISTANCE  MINUTES\n",
       "0  23-NOV-18 00:00:00    3303848    286166    58849\n",
       "1  23-NOV-18 00:00:00    3303847    259545    56828\n",
       "2  28-FEB-18 00:00:00    2868329    103096    40967\n",
       "3  28-FEB-18 00:00:00    2868330    147277    43599\n",
       "4  28-FEB-18 00:00:00    2868331    224682    40447\n",
       "5  28-FEB-18 00:00:00    2868332     19499     6289\n",
       "6  28-FEB-18 00:00:00    2868333    133014    43647\n",
       "7  28-FEB-18 00:00:00    2868334    168964    47167\n",
       "8  28-FEB-18 00:00:00    2868335    360842    55477\n",
       "9  28-FEB-18 00:00:00    2868336    139959    39599"
      ]
     },
     "execution_count": 11,
     "metadata": {},
     "output_type": "execute_result"
    }
   ],
   "source": [
    "# drop columns with a cardinaltiy of 0 or 1\n",
    "constant_columns = ['DATASOURCE', 'LASTUPDATE', 'NOTE']\n",
    "\n",
    "for c in constant_columns:\n",
    "    df_vehicles = df_vehicles.drop(c, 1)\n",
    "\n",
    "df_vehicles.head(10)"
   ]
  },
  {
   "cell_type": "code",
   "execution_count": 12,
   "id": "9faea772",
   "metadata": {},
   "outputs": [
    {
     "data": {
      "text/plain": [
       "DAYOFSERVICE    0\n",
       "VEHICLEID       0\n",
       "DISTANCE        0\n",
       "MINUTES         0\n",
       "dtype: int64"
      ]
     },
     "execution_count": 12,
     "metadata": {},
     "output_type": "execute_result"
    }
   ],
   "source": [
    "# check number of empty rows\n",
    "df_vehicles.isnull().sum()"
   ]
  },
  {
   "cell_type": "code",
   "execution_count": 13,
   "id": "4bf4c05a",
   "metadata": {},
   "outputs": [
    {
     "data": {
      "text/plain": [
       "DAYOFSERVICE       360\n",
       "VEHICLEID         1152\n",
       "DISTANCE        170498\n",
       "MINUTES          57523\n",
       "dtype: int64"
      ]
     },
     "execution_count": 13,
     "metadata": {},
     "output_type": "execute_result"
    }
   ],
   "source": [
    "# check cardinality of new features\n",
    "df_vehicles.nunique()"
   ]
  },
  {
   "cell_type": "markdown",
   "id": "bc71f4fb",
   "metadata": {},
   "source": [
    "<b> - Logic check </b>"
   ]
  },
  {
   "cell_type": "code",
   "execution_count": 14,
   "id": "9f1f365a",
   "metadata": {
    "scrolled": true
   },
   "outputs": [
    {
     "data": {
      "text/html": [
       "<div>\n",
       "<style scoped>\n",
       "    .dataframe tbody tr th:only-of-type {\n",
       "        vertical-align: middle;\n",
       "    }\n",
       "\n",
       "    .dataframe tbody tr th {\n",
       "        vertical-align: top;\n",
       "    }\n",
       "\n",
       "    .dataframe thead th {\n",
       "        text-align: right;\n",
       "    }\n",
       "</style>\n",
       "<table border=\"1\" class=\"dataframe\">\n",
       "  <thead>\n",
       "    <tr style=\"text-align: right;\">\n",
       "      <th></th>\n",
       "      <th>DAYOFSERVICE</th>\n",
       "      <th>VEHICLEID</th>\n",
       "      <th>DISTANCE</th>\n",
       "      <th>MINUTES</th>\n",
       "    </tr>\n",
       "  </thead>\n",
       "  <tbody>\n",
       "    <tr>\n",
       "      <th>0</th>\n",
       "      <td>23-NOV-18 00:00:00</td>\n",
       "      <td>3303848</td>\n",
       "      <td>286166</td>\n",
       "      <td>58849</td>\n",
       "    </tr>\n",
       "    <tr>\n",
       "      <th>1</th>\n",
       "      <td>23-NOV-18 00:00:00</td>\n",
       "      <td>3303847</td>\n",
       "      <td>259545</td>\n",
       "      <td>56828</td>\n",
       "    </tr>\n",
       "    <tr>\n",
       "      <th>2</th>\n",
       "      <td>28-FEB-18 00:00:00</td>\n",
       "      <td>2868329</td>\n",
       "      <td>103096</td>\n",
       "      <td>40967</td>\n",
       "    </tr>\n",
       "    <tr>\n",
       "      <th>3</th>\n",
       "      <td>28-FEB-18 00:00:00</td>\n",
       "      <td>2868330</td>\n",
       "      <td>147277</td>\n",
       "      <td>43599</td>\n",
       "    </tr>\n",
       "    <tr>\n",
       "      <th>4</th>\n",
       "      <td>28-FEB-18 00:00:00</td>\n",
       "      <td>2868331</td>\n",
       "      <td>224682</td>\n",
       "      <td>40447</td>\n",
       "    </tr>\n",
       "    <tr>\n",
       "      <th>5</th>\n",
       "      <td>28-FEB-18 00:00:00</td>\n",
       "      <td>2868332</td>\n",
       "      <td>19499</td>\n",
       "      <td>6289</td>\n",
       "    </tr>\n",
       "    <tr>\n",
       "      <th>6</th>\n",
       "      <td>28-FEB-18 00:00:00</td>\n",
       "      <td>2868333</td>\n",
       "      <td>133014</td>\n",
       "      <td>43647</td>\n",
       "    </tr>\n",
       "    <tr>\n",
       "      <th>7</th>\n",
       "      <td>28-FEB-18 00:00:00</td>\n",
       "      <td>2868334</td>\n",
       "      <td>168964</td>\n",
       "      <td>47167</td>\n",
       "    </tr>\n",
       "    <tr>\n",
       "      <th>8</th>\n",
       "      <td>28-FEB-18 00:00:00</td>\n",
       "      <td>2868335</td>\n",
       "      <td>360842</td>\n",
       "      <td>55477</td>\n",
       "    </tr>\n",
       "    <tr>\n",
       "      <th>9</th>\n",
       "      <td>28-FEB-18 00:00:00</td>\n",
       "      <td>2868336</td>\n",
       "      <td>139959</td>\n",
       "      <td>39599</td>\n",
       "    </tr>\n",
       "  </tbody>\n",
       "</table>\n",
       "</div>"
      ],
      "text/plain": [
       "         DAYOFSERVICE  VEHICLEID  DISTANCE  MINUTES\n",
       "0  23-NOV-18 00:00:00    3303848    286166    58849\n",
       "1  23-NOV-18 00:00:00    3303847    259545    56828\n",
       "2  28-FEB-18 00:00:00    2868329    103096    40967\n",
       "3  28-FEB-18 00:00:00    2868330    147277    43599\n",
       "4  28-FEB-18 00:00:00    2868331    224682    40447\n",
       "5  28-FEB-18 00:00:00    2868332     19499     6289\n",
       "6  28-FEB-18 00:00:00    2868333    133014    43647\n",
       "7  28-FEB-18 00:00:00    2868334    168964    47167\n",
       "8  28-FEB-18 00:00:00    2868335    360842    55477\n",
       "9  28-FEB-18 00:00:00    2868336    139959    39599"
      ]
     },
     "execution_count": 14,
     "metadata": {},
     "output_type": "execute_result"
    }
   ],
   "source": [
    "# check first 10 rows\n",
    "df_vehicles.head(10)"
   ]
  },
  {
   "cell_type": "code",
   "execution_count": 18,
   "id": "4cb0e075",
   "metadata": {},
   "outputs": [
    {
     "data": {
      "text/html": [
       "<div>\n",
       "<style scoped>\n",
       "    .dataframe tbody tr th:only-of-type {\n",
       "        vertical-align: middle;\n",
       "    }\n",
       "\n",
       "    .dataframe tbody tr th {\n",
       "        vertical-align: top;\n",
       "    }\n",
       "\n",
       "    .dataframe thead th {\n",
       "        text-align: right;\n",
       "    }\n",
       "</style>\n",
       "<table border=\"1\" class=\"dataframe\">\n",
       "  <thead>\n",
       "    <tr style=\"text-align: right;\">\n",
       "      <th></th>\n",
       "      <th>DAYOFSERVICE</th>\n",
       "      <th>VEHICLEID</th>\n",
       "      <th>DISTANCE</th>\n",
       "      <th>MINUTES</th>\n",
       "    </tr>\n",
       "  </thead>\n",
       "  <tbody>\n",
       "    <tr>\n",
       "      <th>35337</th>\n",
       "      <td>16-JAN-18 00:00:00</td>\n",
       "      <td>1000438</td>\n",
       "      <td>19438</td>\n",
       "      <td>-63660</td>\n",
       "    </tr>\n",
       "    <tr>\n",
       "      <th>63322</th>\n",
       "      <td>17-MAR-18 00:00:00</td>\n",
       "      <td>2406892</td>\n",
       "      <td>66354</td>\n",
       "      <td>-49317</td>\n",
       "    </tr>\n",
       "    <tr>\n",
       "      <th>73317</th>\n",
       "      <td>18-MAY-18 00:00:00</td>\n",
       "      <td>1001231</td>\n",
       "      <td>76</td>\n",
       "      <td>-26906</td>\n",
       "    </tr>\n",
       "    <tr>\n",
       "      <th>74817</th>\n",
       "      <td>17-APR-18 00:00:00</td>\n",
       "      <td>1000257</td>\n",
       "      <td>42</td>\n",
       "      <td>-56723</td>\n",
       "    </tr>\n",
       "    <tr>\n",
       "      <th>75516</th>\n",
       "      <td>28-MAR-18 00:00:00</td>\n",
       "      <td>2534833</td>\n",
       "      <td>3209</td>\n",
       "      <td>-56686</td>\n",
       "    </tr>\n",
       "    <tr>\n",
       "      <th>86099</th>\n",
       "      <td>22-MAY-18 00:00:00</td>\n",
       "      <td>2693217</td>\n",
       "      <td>7331</td>\n",
       "      <td>-53576</td>\n",
       "    </tr>\n",
       "    <tr>\n",
       "      <th>155328</th>\n",
       "      <td>29-JUN-18 00:00:00</td>\n",
       "      <td>2172270</td>\n",
       "      <td>603</td>\n",
       "      <td>-55863</td>\n",
       "    </tr>\n",
       "    <tr>\n",
       "      <th>160494</th>\n",
       "      <td>21-NOV-18 00:00:00</td>\n",
       "      <td>1000495</td>\n",
       "      <td>102280</td>\n",
       "      <td>-55245</td>\n",
       "    </tr>\n",
       "    <tr>\n",
       "      <th>160954</th>\n",
       "      <td>28-NOV-18 00:00:00</td>\n",
       "      <td>1001115</td>\n",
       "      <td>64237</td>\n",
       "      <td>-58114</td>\n",
       "    </tr>\n",
       "    <tr>\n",
       "      <th>225571</th>\n",
       "      <td>07-DEC-18 00:00:00</td>\n",
       "      <td>1000211</td>\n",
       "      <td>88</td>\n",
       "      <td>-24695</td>\n",
       "    </tr>\n",
       "    <tr>\n",
       "      <th>266506</th>\n",
       "      <td>26-DEC-18 00:00:00</td>\n",
       "      <td>3394111</td>\n",
       "      <td>9658</td>\n",
       "      <td>-70145</td>\n",
       "    </tr>\n",
       "  </tbody>\n",
       "</table>\n",
       "</div>"
      ],
      "text/plain": [
       "              DAYOFSERVICE  VEHICLEID  DISTANCE  MINUTES\n",
       "35337   16-JAN-18 00:00:00    1000438     19438   -63660\n",
       "63322   17-MAR-18 00:00:00    2406892     66354   -49317\n",
       "73317   18-MAY-18 00:00:00    1001231        76   -26906\n",
       "74817   17-APR-18 00:00:00    1000257        42   -56723\n",
       "75516   28-MAR-18 00:00:00    2534833      3209   -56686\n",
       "86099   22-MAY-18 00:00:00    2693217      7331   -53576\n",
       "155328  29-JUN-18 00:00:00    2172270       603   -55863\n",
       "160494  21-NOV-18 00:00:00    1000495    102280   -55245\n",
       "160954  28-NOV-18 00:00:00    1001115     64237   -58114\n",
       "225571  07-DEC-18 00:00:00    1000211        88   -24695\n",
       "266506  26-DEC-18 00:00:00    3394111      9658   -70145"
      ]
     },
     "execution_count": 18,
     "metadata": {},
     "output_type": "execute_result"
    }
   ],
   "source": [
    "# check that minutes of operation are not negative\n",
    "df_vehicles[df_vehicles['MINUTES'] < 0]"
   ]
  },
  {
   "cell_type": "markdown",
   "id": "f9189f33",
   "metadata": {},
   "source": [
    "<b> - We will drop rows with negative minutes since it is impossible for a vehicle to operate for a duration less than 0  </b>"
   ]
  },
  {
   "cell_type": "code",
   "execution_count": 21,
   "id": "e7ad3c04",
   "metadata": {
    "scrolled": true
   },
   "outputs": [
    {
     "data": {
      "text/html": [
       "<div>\n",
       "<style scoped>\n",
       "    .dataframe tbody tr th:only-of-type {\n",
       "        vertical-align: middle;\n",
       "    }\n",
       "\n",
       "    .dataframe tbody tr th {\n",
       "        vertical-align: top;\n",
       "    }\n",
       "\n",
       "    .dataframe thead th {\n",
       "        text-align: right;\n",
       "    }\n",
       "</style>\n",
       "<table border=\"1\" class=\"dataframe\">\n",
       "  <thead>\n",
       "    <tr style=\"text-align: right;\">\n",
       "      <th></th>\n",
       "      <th>DAYOFSERVICE</th>\n",
       "      <th>VEHICLEID</th>\n",
       "      <th>DISTANCE</th>\n",
       "      <th>MINUTES</th>\n",
       "    </tr>\n",
       "  </thead>\n",
       "  <tbody>\n",
       "  </tbody>\n",
       "</table>\n",
       "</div>"
      ],
      "text/plain": [
       "Empty DataFrame\n",
       "Columns: [DAYOFSERVICE, VEHICLEID, DISTANCE, MINUTES]\n",
       "Index: []"
      ]
     },
     "execution_count": 21,
     "metadata": {},
     "output_type": "execute_result"
    }
   ],
   "source": [
    "# drop rows with negative minutes\n",
    "df_vehicles = df_vehicles[df_vehicles['MINUTES'] >= 0]\n",
    "df_vehicles[df_vehicles['MINUTES'] < 0]"
   ]
  },
  {
   "cell_type": "code",
   "execution_count": 22,
   "id": "79d4af9d",
   "metadata": {},
   "outputs": [],
   "source": [
    "# save cleaned data as new csv\n",
    "df_vehicles.to_csv ('/Users/danhowes1/Desktop/UCD/Research_Project/rt_vehicles_DB_2018_CLEANED.csv', index=None)"
   ]
  }
 ],
 "metadata": {
  "kernelspec": {
   "display_name": "Python 3 (ipykernel)",
   "language": "python",
   "name": "python3"
  },
  "language_info": {
   "codemirror_mode": {
    "name": "ipython",
    "version": 3
   },
   "file_extension": ".py",
   "mimetype": "text/x-python",
   "name": "python",
   "nbconvert_exporter": "python",
   "pygments_lexer": "ipython3",
   "version": "3.10.10"
  }
 },
 "nbformat": 4,
 "nbformat_minor": 5
}
